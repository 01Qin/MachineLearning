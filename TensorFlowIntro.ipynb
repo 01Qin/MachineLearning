{
 "cells": [
  {
   "metadata": {},
   "cell_type": "markdown",
   "source": "# Installing TensorFlow",
   "id": "1f75d7dc402481e0"
  },
  {
   "cell_type": "code",
   "id": "initial_id",
   "metadata": {
    "collapsed": true,
    "ExecuteTime": {
     "end_time": "2025-06-13T09:19:55.410821Z",
     "start_time": "2025-06-13T09:19:52.630135Z"
    }
   },
   "source": "pip install tensorflow",
   "outputs": [
    {
     "name": "stdout",
     "output_type": "stream",
     "text": [
      "Requirement already satisfied: tensorflow in /opt/anaconda3/lib/python3.12/site-packages (2.19.0)\r\n",
      "Requirement already satisfied: absl-py>=1.0.0 in /opt/anaconda3/lib/python3.12/site-packages (from tensorflow) (2.1.0)\r\n",
      "Requirement already satisfied: astunparse>=1.6.0 in /opt/anaconda3/lib/python3.12/site-packages (from tensorflow) (1.6.3)\r\n",
      "Requirement already satisfied: flatbuffers>=24.3.25 in /opt/anaconda3/lib/python3.12/site-packages (from tensorflow) (24.3.25)\r\n",
      "Requirement already satisfied: gast!=0.5.0,!=0.5.1,!=0.5.2,>=0.2.1 in /opt/anaconda3/lib/python3.12/site-packages (from tensorflow) (0.5.3)\r\n",
      "Requirement already satisfied: google-pasta>=0.1.1 in /opt/anaconda3/lib/python3.12/site-packages (from tensorflow) (0.2.0)\r\n",
      "Requirement already satisfied: libclang>=13.0.0 in /opt/anaconda3/lib/python3.12/site-packages (from tensorflow) (18.1.1)\r\n",
      "Requirement already satisfied: opt-einsum>=2.3.2 in /opt/anaconda3/lib/python3.12/site-packages (from tensorflow) (3.3.0)\r\n",
      "Requirement already satisfied: packaging in /opt/anaconda3/lib/python3.12/site-packages (from tensorflow) (23.2)\r\n",
      "Requirement already satisfied: protobuf!=4.21.0,!=4.21.1,!=4.21.2,!=4.21.3,!=4.21.4,!=4.21.5,<6.0.0dev,>=3.20.3 in /opt/anaconda3/lib/python3.12/site-packages (from tensorflow) (5.29.3)\r\n",
      "Requirement already satisfied: requests<3,>=2.21.0 in /opt/anaconda3/lib/python3.12/site-packages (from tensorflow) (2.32.2)\r\n",
      "Requirement already satisfied: setuptools in /opt/anaconda3/lib/python3.12/site-packages (from tensorflow) (69.5.1)\r\n",
      "Requirement already satisfied: six>=1.12.0 in /opt/anaconda3/lib/python3.12/site-packages (from tensorflow) (1.16.0)\r\n",
      "Requirement already satisfied: termcolor>=1.1.0 in /opt/anaconda3/lib/python3.12/site-packages (from tensorflow) (2.1.0)\r\n",
      "Requirement already satisfied: typing-extensions>=3.6.6 in /opt/anaconda3/lib/python3.12/site-packages (from tensorflow) (4.12.2)\r\n",
      "Requirement already satisfied: wrapt>=1.11.0 in /opt/anaconda3/lib/python3.12/site-packages (from tensorflow) (1.14.1)\r\n",
      "Requirement already satisfied: grpcio<2.0,>=1.24.3 in /opt/anaconda3/lib/python3.12/site-packages (from tensorflow) (1.71.0)\r\n",
      "Requirement already satisfied: tensorboard~=2.19.0 in /opt/anaconda3/lib/python3.12/site-packages (from tensorflow) (2.19.0)\r\n",
      "Requirement already satisfied: keras>=3.5.0 in /opt/anaconda3/lib/python3.12/site-packages (from tensorflow) (3.6.0)\r\n",
      "Requirement already satisfied: numpy<2.2.0,>=1.26.0 in /opt/anaconda3/lib/python3.12/site-packages (from tensorflow) (1.26.4)\r\n",
      "Requirement already satisfied: h5py>=3.11.0 in /opt/anaconda3/lib/python3.12/site-packages (from tensorflow) (3.11.0)\r\n",
      "Requirement already satisfied: ml-dtypes<1.0.0,>=0.5.1 in /opt/anaconda3/lib/python3.12/site-packages (from tensorflow) (0.5.1)\r\n",
      "Requirement already satisfied: wheel<1.0,>=0.23.0 in /opt/anaconda3/lib/python3.12/site-packages (from astunparse>=1.6.0->tensorflow) (0.43.0)\r\n",
      "Requirement already satisfied: rich in /opt/anaconda3/lib/python3.12/site-packages (from keras>=3.5.0->tensorflow) (13.3.5)\r\n",
      "Requirement already satisfied: namex in /opt/anaconda3/lib/python3.12/site-packages (from keras>=3.5.0->tensorflow) (0.0.7)\r\n",
      "Requirement already satisfied: optree in /opt/anaconda3/lib/python3.12/site-packages (from keras>=3.5.0->tensorflow) (0.14.1)\r\n",
      "Requirement already satisfied: charset-normalizer<4,>=2 in /opt/anaconda3/lib/python3.12/site-packages (from requests<3,>=2.21.0->tensorflow) (2.0.4)\r\n",
      "Requirement already satisfied: idna<4,>=2.5 in /opt/anaconda3/lib/python3.12/site-packages (from requests<3,>=2.21.0->tensorflow) (3.7)\r\n",
      "Requirement already satisfied: urllib3<3,>=1.21.1 in /opt/anaconda3/lib/python3.12/site-packages (from requests<3,>=2.21.0->tensorflow) (2.2.2)\r\n",
      "Requirement already satisfied: certifi>=2017.4.17 in /opt/anaconda3/lib/python3.12/site-packages (from requests<3,>=2.21.0->tensorflow) (2025.4.26)\r\n",
      "Requirement already satisfied: markdown>=2.6.8 in /opt/anaconda3/lib/python3.12/site-packages (from tensorboard~=2.19.0->tensorflow) (3.4.1)\r\n",
      "Requirement already satisfied: tensorboard-data-server<0.8.0,>=0.7.0 in /opt/anaconda3/lib/python3.12/site-packages (from tensorboard~=2.19.0->tensorflow) (0.7.0)\r\n",
      "Requirement already satisfied: werkzeug>=1.0.1 in /opt/anaconda3/lib/python3.12/site-packages (from tensorboard~=2.19.0->tensorflow) (3.0.3)\r\n",
      "Requirement already satisfied: MarkupSafe>=2.1.1 in /opt/anaconda3/lib/python3.12/site-packages (from werkzeug>=1.0.1->tensorboard~=2.19.0->tensorflow) (2.1.3)\r\n",
      "Requirement already satisfied: markdown-it-py<3.0.0,>=2.2.0 in /opt/anaconda3/lib/python3.12/site-packages (from rich->keras>=3.5.0->tensorflow) (2.2.0)\r\n",
      "Requirement already satisfied: pygments<3.0.0,>=2.13.0 in /opt/anaconda3/lib/python3.12/site-packages (from rich->keras>=3.5.0->tensorflow) (2.15.1)\r\n",
      "Requirement already satisfied: mdurl~=0.1 in /opt/anaconda3/lib/python3.12/site-packages (from markdown-it-py<3.0.0,>=2.2.0->rich->keras>=3.5.0->tensorflow) (0.1.0)\r\n",
      "Note: you may need to restart the kernel to use updated packages.\n"
     ]
    }
   ],
   "execution_count": 1
  },
  {
   "metadata": {
    "ExecuteTime": {
     "end_time": "2025-06-13T09:20:38.229995Z",
     "start_time": "2025-06-13T09:20:36.403523Z"
    }
   },
   "cell_type": "code",
   "source": "pip install tensorflow-gpu",
   "id": "57f137cb6a40a584",
   "outputs": [
    {
     "name": "stdout",
     "output_type": "stream",
     "text": [
      "Collecting tensorflow-gpu\r\n",
      "  Downloading tensorflow-gpu-2.12.0.tar.gz (2.6 kB)\r\n",
      "  Preparing metadata (setup.py) ... \u001B[?25lerror\r\n",
      "  \u001B[1;31merror\u001B[0m: \u001B[1msubprocess-exited-with-error\u001B[0m\r\n",
      "  \r\n",
      "  \u001B[31m×\u001B[0m \u001B[32mpython setup.py egg_info\u001B[0m did not run successfully.\r\n",
      "  \u001B[31m│\u001B[0m exit code: \u001B[1;36m1\u001B[0m\r\n",
      "  \u001B[31m╰─>\u001B[0m \u001B[31m[44 lines of output]\u001B[0m\r\n",
      "  \u001B[31m   \u001B[0m Traceback (most recent call last):\r\n",
      "  \u001B[31m   \u001B[0m   File \"/opt/anaconda3/lib/python3.12/site-packages/setuptools/_vendor/packaging/requirements.py\", line 35, in __init__\r\n",
      "  \u001B[31m   \u001B[0m     parsed = _parse_requirement(requirement_string)\r\n",
      "  \u001B[31m   \u001B[0m              ^^^^^^^^^^^^^^^^^^^^^^^^^^^^^^^^^^^^^^\r\n",
      "  \u001B[31m   \u001B[0m   File \"/opt/anaconda3/lib/python3.12/site-packages/setuptools/_vendor/packaging/_parser.py\", line 64, in parse_requirement\r\n",
      "  \u001B[31m   \u001B[0m     return _parse_requirement(Tokenizer(source, rules=DEFAULT_RULES))\r\n",
      "  \u001B[31m   \u001B[0m            ^^^^^^^^^^^^^^^^^^^^^^^^^^^^^^^^^^^^^^^^^^^^^^^^^^^^^^^^^^\r\n",
      "  \u001B[31m   \u001B[0m   File \"/opt/anaconda3/lib/python3.12/site-packages/setuptools/_vendor/packaging/_parser.py\", line 82, in _parse_requirement\r\n",
      "  \u001B[31m   \u001B[0m     url, specifier, marker = _parse_requirement_details(tokenizer)\r\n",
      "  \u001B[31m   \u001B[0m                              ^^^^^^^^^^^^^^^^^^^^^^^^^^^^^^^^^^^^^\r\n",
      "  \u001B[31m   \u001B[0m   File \"/opt/anaconda3/lib/python3.12/site-packages/setuptools/_vendor/packaging/_parser.py\", line 126, in _parse_requirement_details\r\n",
      "  \u001B[31m   \u001B[0m     marker = _parse_requirement_marker(\r\n",
      "  \u001B[31m   \u001B[0m              ^^^^^^^^^^^^^^^^^^^^^^^^^^\r\n",
      "  \u001B[31m   \u001B[0m   File \"/opt/anaconda3/lib/python3.12/site-packages/setuptools/_vendor/packaging/_parser.py\", line 147, in _parse_requirement_marker\r\n",
      "  \u001B[31m   \u001B[0m     tokenizer.raise_syntax_error(\r\n",
      "  \u001B[31m   \u001B[0m   File \"/opt/anaconda3/lib/python3.12/site-packages/setuptools/_vendor/packaging/_tokenizer.py\", line 165, in raise_syntax_error\r\n",
      "  \u001B[31m   \u001B[0m     raise ParserSyntaxError(\r\n",
      "  \u001B[31m   \u001B[0m setuptools.extern.packaging._tokenizer.ParserSyntaxError: Expected end or semicolon (after name and no valid version specifier)\r\n",
      "  \u001B[31m   \u001B[0m     python_version>\"3.7\"\r\n",
      "  \u001B[31m   \u001B[0m                   ^\r\n",
      "  \u001B[31m   \u001B[0m \r\n",
      "  \u001B[31m   \u001B[0m The above exception was the direct cause of the following exception:\r\n",
      "  \u001B[31m   \u001B[0m \r\n",
      "  \u001B[31m   \u001B[0m Traceback (most recent call last):\r\n",
      "  \u001B[31m   \u001B[0m   File \"<string>\", line 2, in <module>\r\n",
      "  \u001B[31m   \u001B[0m   File \"<pip-setuptools-caller>\", line 34, in <module>\r\n",
      "  \u001B[31m   \u001B[0m   File \"/private/var/folders/hb/3jl8x77x5k94tq98l6fz3cbr0000gn/T/pip-install-s2j947l5/tensorflow-gpu_ef73d1f596f946858e14525189dc4164/setup.py\", line 40, in <module>\r\n",
      "  \u001B[31m   \u001B[0m     setuptools.setup()\r\n",
      "  \u001B[31m   \u001B[0m   File \"/opt/anaconda3/lib/python3.12/site-packages/setuptools/__init__.py\", line 103, in setup\r\n",
      "  \u001B[31m   \u001B[0m     _install_setup_requires(attrs)\r\n",
      "  \u001B[31m   \u001B[0m   File \"/opt/anaconda3/lib/python3.12/site-packages/setuptools/__init__.py\", line 74, in _install_setup_requires\r\n",
      "  \u001B[31m   \u001B[0m     dist.parse_config_files(ignore_option_errors=True)\r\n",
      "  \u001B[31m   \u001B[0m   File \"/opt/anaconda3/lib/python3.12/site-packages/setuptools/dist.py\", line 633, in parse_config_files\r\n",
      "  \u001B[31m   \u001B[0m     self._finalize_requires()\r\n",
      "  \u001B[31m   \u001B[0m   File \"/opt/anaconda3/lib/python3.12/site-packages/setuptools/dist.py\", line 368, in _finalize_requires\r\n",
      "  \u001B[31m   \u001B[0m     self._normalize_requires()\r\n",
      "  \u001B[31m   \u001B[0m   File \"/opt/anaconda3/lib/python3.12/site-packages/setuptools/dist.py\", line 383, in _normalize_requires\r\n",
      "  \u001B[31m   \u001B[0m     self.install_requires = list(map(str, _reqs.parse(install_requires)))\r\n",
      "  \u001B[31m   \u001B[0m                             ^^^^^^^^^^^^^^^^^^^^^^^^^^^^^^^^^^^^^^^^^^^^^\r\n",
      "  \u001B[31m   \u001B[0m   File \"/opt/anaconda3/lib/python3.12/site-packages/setuptools/_vendor/packaging/requirements.py\", line 37, in __init__\r\n",
      "  \u001B[31m   \u001B[0m     raise InvalidRequirement(str(e)) from e\r\n",
      "  \u001B[31m   \u001B[0m setuptools.extern.packaging.requirements.InvalidRequirement: Expected end or semicolon (after name and no valid version specifier)\r\n",
      "  \u001B[31m   \u001B[0m     python_version>\"3.7\"\r\n",
      "  \u001B[31m   \u001B[0m                   ^\r\n",
      "  \u001B[31m   \u001B[0m \u001B[31m[end of output]\u001B[0m\r\n",
      "  \r\n",
      "  \u001B[1;35mnote\u001B[0m: This error originates from a subprocess, and is likely not a problem with pip.\r\n",
      "\u001B[1;31merror\u001B[0m: \u001B[1mmetadata-generation-failed\u001B[0m\r\n",
      "\r\n",
      "\u001B[31m×\u001B[0m Encountered error while generating package metadata.\r\n",
      "\u001B[31m╰─>\u001B[0m See above for output.\r\n",
      "\r\n",
      "\u001B[1;35mnote\u001B[0m: This is an issue with the package mentioned above, not pip.\r\n",
      "\u001B[1;36mhint\u001B[0m: See above for details.\r\n",
      "\u001B[?25hNote: you may need to restart the kernel to use updated packages.\n"
     ]
    }
   ],
   "execution_count": 2
  },
  {
   "metadata": {},
   "cell_type": "markdown",
   "source": "# Importing TensorFlow",
   "id": "c30214ea7218cd6a"
  },
  {
   "metadata": {
    "ExecuteTime": {
     "end_time": "2025-06-13T09:28:35.878718Z",
     "start_time": "2025-06-13T09:28:32.974888Z"
    }
   },
   "cell_type": "code",
   "source": [
    "import tensorflow as tf\n",
    "print(tf.__version__) # make sure the version is 2.x"
   ],
   "id": "a9c0fb601ebdf512",
   "outputs": [
    {
     "name": "stdout",
     "output_type": "stream",
     "text": [
      "2.19.0\n"
     ]
    }
   ],
   "execution_count": 3
  },
  {
   "metadata": {},
   "cell_type": "markdown",
   "source": [
    "# Tensors\n",
    "### Each tensor has a data type and a shape.\n",
    "### Data Types include: float32, int32, string and others.\n",
    "### Shape: Represents the dimension of data."
   ],
   "id": "f090a6c4a2c1e3af"
  },
  {
   "metadata": {},
   "cell_type": "markdown",
   "source": "# Creating Tensors",
   "id": "ee3d46974308d256"
  },
  {
   "metadata": {
    "ExecuteTime": {
     "end_time": "2025-06-13T09:40:18.856181Z",
     "start_time": "2025-06-13T09:40:18.832006Z"
    }
   },
   "cell_type": "code",
   "source": [
    "string = tf.Variable('Hello, TensorFlow!', tf.string)\n",
    "number = tf.Variable(324, tf.int16)\n",
    "floating = tf.Variable(3.567, tf.float64)"
   ],
   "id": "bacf4f24dc99999a",
   "outputs": [],
   "execution_count": 4
  }
 ],
 "metadata": {
  "kernelspec": {
   "display_name": "Python 3",
   "language": "python",
   "name": "python3"
  },
  "language_info": {
   "codemirror_mode": {
    "name": "ipython",
    "version": 2
   },
   "file_extension": ".py",
   "mimetype": "text/x-python",
   "name": "python",
   "nbconvert_exporter": "python",
   "pygments_lexer": "ipython2",
   "version": "2.7.6"
  }
 },
 "nbformat": 4,
 "nbformat_minor": 5
}
