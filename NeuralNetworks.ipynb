{
 "cells": [
  {
   "cell_type": "code",
   "id": "b409c957461e9824",
   "metadata": {
    "ExecuteTime": {
     "end_time": "2025-06-06T10:03:06.417085Z",
     "start_time": "2025-06-06T10:03:06.411371Z"
    }
   },
   "source": [
    "# TensorFlow and tf.keras\n",
    "import tensorflow as tf\n",
    "from tensorflow import keras\n",
    "\n",
    "#helper libraries\n",
    "import numpy as np\n",
    "import matplotlib.pyplot as plt"
   ],
   "outputs": [],
   "execution_count": 20
  },
  {
   "metadata": {},
   "cell_type": "markdown",
   "source": [
    "# Dataset\n",
    "### Using the MNIST Fashion Dataset, includes 60,000 images for training and 10,000 images for validation/testing."
   ],
   "id": "beb95cacd4c9f3ce"
  },
  {
   "metadata": {
    "ExecuteTime": {
     "end_time": "2025-06-06T10:03:06.593853Z",
     "start_time": "2025-06-06T10:03:06.425807Z"
    }
   },
   "cell_type": "code",
   "source": [
    "fashion_mnist = keras.datasets.fashion_mnist # load dataset\n",
    "(train_images, train_labels), (test_images, test_labels) = fashion_mnist.load_data() # split into testing and training"
   ],
   "id": "1d4effe1d778c7c0",
   "outputs": [],
   "execution_count": 21
  },
  {
   "metadata": {},
   "cell_type": "markdown",
   "source": "",
   "id": "ee9f6a2677f577b4"
  },
  {
   "metadata": {
    "ExecuteTime": {
     "end_time": "2025-06-06T10:03:06.602503Z",
     "start_time": "2025-06-06T10:03:06.600334Z"
    }
   },
   "cell_type": "code",
   "source": [
    "train_images.shape\n",
    "\n",
    "train_images[0, 23, 23] # have a look at one pixel\n",
    "# print(train_images)\n",
    "\n",
    "# pixel values are between 0 and 255, 0 being black and 255 being white.\n",
    "train_labels[:10] # have a look at the first 10 training labels\n",
    "\n",
    "class_names = ['T-shirt/top', 'Trouser', 'Pullover', 'Dress', 'Coat', 'Sandal', 'Shirt', 'Sneaker', 'Bag', 'Ankle boot']"
   ],
   "id": "63b9fcf376344b1c",
   "outputs": [],
   "execution_count": 22
  },
  {
   "metadata": {
    "collapsed": true,
    "ExecuteTime": {
     "end_time": "2025-06-06T10:07:26.208774Z",
     "start_time": "2025-06-06T10:07:26.128467Z"
    }
   },
   "cell_type": "code",
   "source": [
    "plt.figure()\n",
    "plt.imshow(train_images[3]) #love the dress :D\n",
    "plt.colorbar()\n",
    "plt.grid(False)\n",
    "plt.show()"
   ],
   "id": "initial_id",
   "outputs": [
    {
     "data": {
      "text/plain": [
       "<Figure size 640x480 with 2 Axes>"
      ],
      "image/png": "[encoded data removed]"
     },
     "metadata": {},
     "output_type": "display_data"
    }
   ],
   "execution_count": 32
  },
  {
   "metadata": {},
   "cell_type": "markdown",
   "source": [
    "# Data Preprocessing\n",
    "\n",
    "### Sampling scale all of our greyscale pixel values(0 - 255) to be between 0 and 1."
   ],
   "id": "17918d0361a18110"
  },
  {
   "metadata": {
    "ExecuteTime": {
     "end_time": "2025-06-06T10:07:31.412882Z",
     "start_time": "2025-06-06T10:07:31.165749Z"
    }
   },
   "cell_type": "code",
   "source": [
    "train_images = train_images / 255.0\n",
    "test_images = test_images / 255.0"
   ],
   "id": "7a128b59ab85c6ed",
   "outputs": [],
   "execution_count": 33
  },
  {
   "metadata": {},
   "cell_type": "markdown",
   "source": [
    "# Building the Model\n",
    "### Layer 1: Input layer. it will consist of 784 neurons. input shape of (28, 28).\n",
    "### Layer 2: The first and only hidden layer. It will be fully connected and each neuron from the previous layers.\n",
    "### Layer 3: Output layer. All the values of our neurons add up to 1, and that there are between 0 - 1."
   ],
   "id": "86f815c8b0016f77"
  },
  {
   "metadata": {
    "ExecuteTime": {
     "end_time": "2025-06-06T10:07:34.146801Z",
     "start_time": "2025-06-06T10:07:34.129944Z"
    }
   },
   "cell_type": "code",
   "source": [
    "model = keras.Sequential([\n",
    "    keras.layers.Flatten(input_shape=(28, 28)), # input layer 1\n",
    "    keras.layers.Dense(128, activation='relu'), # hidden layer 2\n",
    "    keras.layers.Dense(10, activation='softmax') # output layer 3\n",
    "])\n",
    "\n"
   ],
   "id": "8d7d5b55a30de85b",
   "outputs": [],
   "execution_count": 34
  },
  {
   "metadata": {},
   "cell_type": "markdown",
   "source": "# Compiling the Model",
   "id": "e522fb6509a053c0"
  },
  {
   "metadata": {
    "ExecuteTime": {
     "end_time": "2025-06-06T10:09:10.319245Z",
     "start_time": "2025-06-06T10:09:10.295577Z"
    }
   },
   "cell_type": "code",
   "source": [
    "# hyper parameter\n",
    "model.compile(optimizer = 'adam',\n",
    "              loss = 'sparse_categorical_crossentropy',\n",
    "              metrics = ['accuracy'])"
   ],
   "id": "4d528670fb492fde",
   "outputs": [],
   "execution_count": 36
  },
  {
   "metadata": {},
   "cell_type": "markdown",
   "source": "# Traning the Model",
   "id": "bce4242610d15407"
  },
  {
   "metadata": {
    "ExecuteTime": {
     "end_time": "2025-06-06T10:09:26.133199Z",
     "start_time": "2025-06-06T10:09:13.653051Z"
    }
   },
   "cell_type": "code",
   "source": [
    "model.fit(train_images, train_labels, epochs=10) # pass the date, labels and epochs and watch the magica!\n",
    "# less epochs will be better\n"
   ],
   "id": "de748650ddde3e8",
   "outputs": [
    {
     "name": "stdout",
     "output_type": "stream",
     "text": [
      "Epoch 1/10\n",
      "\u001B[1m1875/1875\u001B[0m \u001B[32m━━━━━━━━━━━━━━━━━━━━\u001B[0m\u001B[37m\u001B[0m \u001B[1m1s\u001B[0m 650us/step - accuracy: 0.1007 - loss: 2.3026\n",
      "Epoch 2/10\n",
      "\u001B[1m1875/1875\u001B[0m \u001B[32m━━━━━━━━━━━━━━━━━━━━\u001B[0m\u001B[37m\u001B[0m \u001B[1m1s\u001B[0m 613us/step - accuracy: 0.1252 - loss: 2.3005\n",
      "Epoch 3/10\n",
      "\u001B[1m1875/1875\u001B[0m \u001B[32m━━━━━━━━━━━━━━━━━━━━\u001B[0m\u001B[37m\u001B[0m \u001B[1m1s\u001B[0m 599us/step - accuracy: 0.1585 - loss: 2.2899\n",
      "Epoch 4/10\n",
      "\u001B[1m1875/1875\u001B[0m \u001B[32m━━━━━━━━━━━━━━━━━━━━\u001B[0m\u001B[37m\u001B[0m \u001B[1m1s\u001B[0m 554us/step - accuracy: 0.1868 - loss: 2.2640\n",
      "Epoch 5/10\n",
      "\u001B[1m1875/1875\u001B[0m \u001B[32m━━━━━━━━━━━━━━━━━━━━\u001B[0m\u001B[37m\u001B[0m \u001B[1m1s\u001B[0m 641us/step - accuracy: 0.2127 - loss: 2.2247\n",
      "Epoch 6/10\n",
      "\u001B[1m1875/1875\u001B[0m \u001B[32m━━━━━━━━━━━━━━━━━━━━\u001B[0m\u001B[37m\u001B[0m \u001B[1m1s\u001B[0m 681us/step - accuracy: 0.2025 - loss: 2.1770\n",
      "Epoch 7/10\n",
      "\u001B[1m1875/1875\u001B[0m \u001B[32m━━━━━━━━━━━━━━━━━━━━\u001B[0m\u001B[37m\u001B[0m \u001B[1m1s\u001B[0m 618us/step - accuracy: 0.2338 - loss: 2.1267\n",
      "Epoch 8/10\n",
      "\u001B[1m1875/1875\u001B[0m \u001B[32m━━━━━━━━━━━━━━━━━━━━\u001B[0m\u001B[37m\u001B[0m \u001B[1m1s\u001B[0m 644us/step - accuracy: 0.2206 - loss: 2.0766\n",
      "Epoch 9/10\n",
      "\u001B[1m1875/1875\u001B[0m \u001B[32m━━━━━━━━━━━━━━━━━━━━\u001B[0m\u001B[37m\u001B[0m \u001B[1m1s\u001B[0m 769us/step - accuracy: 0.2513 - loss: 2.0248\n",
      "Epoch 10/10\n",
      "\u001B[1m1875/1875\u001B[0m \u001B[32m━━━━━━━━━━━━━━━━━━━━\u001B[0m\u001B[37m\u001B[0m \u001B[1m1s\u001B[0m 581us/step - accuracy: 0.2552 - loss: 1.9806\n"
     ]
    },
    {
     "data": {
      "text/plain": [
       "<keras.src.callbacks.history.History at 0x15ff92120>"
      ]
     },
     "execution_count": 37,
     "metadata": {},
     "output_type": "execute_result"
    }
   ],
   "execution_count": 37
  },
  {
   "metadata": {},
   "cell_type": "markdown",
   "source": "",
   "id": "471102431441c0"
  },
  {
   "metadata": {},
   "cell_type": "markdown",
   "source": [
    "# Evaluationg the Model\n",
    "\n"
   ],
   "id": "d8e73b938cfc9d16"
  },
  {
   "metadata": {
    "ExecuteTime": {
     "end_time": "2025-06-06T10:10:20.664525Z",
     "start_time": "2025-06-06T10:10:20.448261Z"
    }
   },
   "cell_type": "code",
   "source": [
    "test_loss, test_acc = model.evaluate(test_images, test_labels, verbose=1)\n",
    "print('Test accuracy:', test_acc)"
   ],
   "id": "81cd82adcb130abe",
   "outputs": [
    {
     "name": "stdout",
     "output_type": "stream",
     "text": [
      "\u001B[1m313/313\u001B[0m \u001B[32m━━━━━━━━━━━━━━━━━━━━\u001B[0m\u001B[37m\u001B[0m \u001B[1m0s\u001B[0m 266us/step - accuracy: 0.3155 - loss: 1.9500\n",
      "Test accuracy: 0.313400000333786\n"
     ]
    }
   ],
   "execution_count": 38
  },
  {
   "metadata": {},
   "cell_type": "markdown",
   "source": "# Making Predictions",
   "id": "b19ac22c92dd47d5"
  },
  {
   "metadata": {
    "ExecuteTime": {
     "end_time": "2025-06-06T10:21:15.879473Z",
     "start_time": "2025-06-06T10:21:15.648427Z"
    }
   },
   "cell_type": "code",
   "source": [
    "predictions = model.predict(test_images)\n",
    "predictions[0]\n",
    "np.argmax(predictions[0]) # return the index of the maximum value in the list.\n",
    "test_labels[0]\n",
    "print(class_names[np.argmax(predictions[0])])\n",
    "plt.figure()\n",
    "plt.imshow(test_images[0]) \n",
    "plt.colorbar()\n",
    "plt.grid(False)\n",
    "plt.show()"
   ],
   "id": "db170819036e8e1",
   "outputs": [
    {
     "name": "stdout",
     "output_type": "stream",
     "text": [
      "\u001B[1m313/313\u001B[0m \u001B[32m━━━━━━━━━━━━━━━━━━━━\u001B[0m\u001B[37m\u001B[0m \u001B[1m0s\u001B[0m 290us/step\n",
      "Sneaker\n"
     ]
    },
    {
     "data": {
      "text/plain": [
       "<Figure size 640x480 with 2 Axes>"
      ],
      "image/png": "[encoded data removed]"
     },
     "metadata": {},
     "output_type": "display_data"
    }
   ],
   "execution_count": 46
  },
  {
   "metadata": {},
   "cell_type": "markdown",
   "source": [
    "# Verifying Predictions\n",
    "\n"
   ],
   "id": "c0da4914292f1d6b"
  },
  {
   "metadata": {
    "ExecuteTime": {
     "end_time": "2025-06-06T20:01:18.066022Z",
     "start_time": "2025-06-06T20:01:18.062443Z"
    }
   },
   "cell_type": "code",
   "source": [
    "COLOUR = 'Black' # use black colour to show the text\n",
    "plt.rcParams['text.color'] = COLOUR\n",
    "plt.rcParams['axes.labelcolor'] = COLOUR"
   ],
   "id": "c331ad43985f8a9f",
   "outputs": [],
   "execution_count": 66
  },
  {
   "metadata": {
    "ExecuteTime": {
     "end_time": "2025-06-06T20:01:21.844248Z",
     "start_time": "2025-06-06T20:01:19.440538Z"
    }
   },
   "cell_type": "code",
   "source": [
    "def predict(model, image, correct_label):\n",
    "    class_names = ['T-shirt/top', 'Trouser', 'Pullover', 'Dress', 'Coat', 'Shirt', 'Sneaker', 'Bag', 'Ankle boot']\n",
    "    prediction = model.predict(np.array([image]))\n",
    "    predicted_class = class_names[np.argmax(prediction)]\n",
    "    \n",
    "    show_image(image, class_names[correct_label], predicted_class)\n",
    "    \n",
    "def show_image(img, label, guess):\n",
    "    plt.figure()\n",
    "    plt.imshow(img, cmap=plt.cm.binary)\n",
    "    plt.title(\"Expected: \" + label)\n",
    "    plt.xlabel(\"Guess: \" + guess)\n",
    "    plt.colorbar()\n",
    "    plt.grid(False)\n",
    "    plt.show()\n",
    "    \n",
    "def get_number():\n",
    "    while True:\n",
    "        num = input(\"Pick a number: \")\n",
    "        if num.isdigit():\n",
    "            num = int(num)\n",
    "            if 0 <= num <= 1000:\n",
    "                return int(num)\n",
    "            else:\n",
    "                print(\"Try again...\")\n",
    "num = get_number()\n",
    "image = test_images[num]\n",
    "label = test_labels[num]\n",
    "predict(model, image, label)\n",
    "        "
   ],
   "id": "ccd25d52ee2e249b",
   "outputs": [
    {
     "name": "stdout",
     "output_type": "stream",
     "text": [
      "\u001B[1m1/1\u001B[0m \u001B[32m━━━━━━━━━━━━━━━━━━━━\u001B[0m\u001B[37m\u001B[0m \u001B[1m0s\u001B[0m 11ms/step\n"
     ]
    },
    {
     "data": {
      "text/plain": [
       "<Figure size 640x480 with 2 Axes>"
      ],
      "image/png": "[encoded data removed]"
     },
     "metadata": {},
     "output_type": "display_data"
    }
   ],
   "execution_count": 67
  },
  {
   "metadata": {},
   "cell_type": "markdown",
   "source": "***it is ridiculous, how come you guessed wrong??!***",
   "id": "cd32b4352c011a4a"
  }
 ],
 "metadata": {
  "kernelspec": {
   "display_name": "Python 3",
   "language": "python",
   "name": "python3"
  },
  "language_info": {
   "codemirror_mode": {
    "name": "ipython",
    "version": 2
   },
   "file_extension": ".py",
   "mimetype": "text/x-python",
   "name": "python",
   "nbconvert_exporter": "python",
   "pygments_lexer": "ipython2",
   "version": "2.7.6"
  }
 },
 "nbformat": 4,
 "nbformat_minor": 5
}
